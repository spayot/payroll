{
 "cells": [
  {
   "cell_type": "code",
   "execution_count": null,
   "metadata": {},
   "outputs": [],
   "source": [
    "import payroll as pr\n",
    "from pathlib import Path\n",
    "\n",
    "service_type = pr.ServiceType(\n",
    "employee=pr.Employee(name=\"Jane Doe\"), name=\"one_child\", hourly_rate=22\n",
    ")\n",
    "date = pr.Date(2022, 10, 26)\n",
    "service = pr.Service(date, service_type, duration_hrs=8)\n",
    "\n",
    "path = Path(\"../data/test.jsonl\")\n",
    "service.record_to(path)\n",
    "service.record_to(path)"
   ]
  }
 ],
 "metadata": {
  "kernelspec": {
   "display_name": "Python 3.11.0 ('payroll')",
   "language": "python",
   "name": "python3"
  },
  "language_info": {
   "codemirror_mode": {
    "name": "ipython",
    "version": 3
   },
   "file_extension": ".py",
   "mimetype": "text/x-python",
   "name": "python",
   "nbconvert_exporter": "python",
   "pygments_lexer": "ipython3",
   "version": "3.11.0 | packaged by conda-forge | (main, Oct 25 2022, 06:21:25) [Clang 14.0.4 ]"
  },
  "orig_nbformat": 4,
  "vscode": {
   "interpreter": {
    "hash": "158303973927b78905ae9c9ee73536adb12bc432ee0854b2142cd151ffab77e4"
   }
  }
 },
 "nbformat": 4,
 "nbformat_minor": 2
}
