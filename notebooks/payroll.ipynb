{
 "cells": [
  {
   "cell_type": "code",
   "execution_count": 1,
   "metadata": {},
   "outputs": [
    {
     "ename": "ModuleNotFoundError",
     "evalue": "No module named 'yaml'",
     "output_type": "error",
     "traceback": [
      "\u001b[0;31m---------------------------------------------------------------------------\u001b[0m",
      "\u001b[0;31mModuleNotFoundError\u001b[0m                       Traceback (most recent call last)",
      "Cell \u001b[0;32mIn [1], line 1\u001b[0m\n\u001b[0;32m----> 1\u001b[0m \u001b[39mimport\u001b[39;00m \u001b[39mpayroll\u001b[39;00m \u001b[39mas\u001b[39;00m \u001b[39mpr\u001b[39;00m\n",
      "File \u001b[0;32m~/projects/payroll/src/payroll/__init__.py:1\u001b[0m\n\u001b[0;32m----> 1\u001b[0m \u001b[39mfrom\u001b[39;00m \u001b[39m.\u001b[39;00m\u001b[39mpayperiod\u001b[39;00m \u001b[39mimport\u001b[39;00m PayPeriod\n\u001b[1;32m      2\u001b[0m \u001b[39mfrom\u001b[39;00m \u001b[39m.\u001b[39;00m\u001b[39mservices\u001b[39;00m \u001b[39mimport\u001b[39;00m Date, Employee, Service, ServiceType, ServiceTypeRegistry\n",
      "File \u001b[0;32m~/projects/payroll/src/payroll/payperiod.py:3\u001b[0m\n\u001b[1;32m      1\u001b[0m \u001b[39mfrom\u001b[39;00m \u001b[39mcollections\u001b[39;00m \u001b[39mimport\u001b[39;00m defaultdict\n\u001b[0;32m----> 3\u001b[0m \u001b[39mfrom\u001b[39;00m \u001b[39m.\u001b[39;00m\u001b[39mservices\u001b[39;00m \u001b[39mimport\u001b[39;00m OVERTIME_SUFFIX, Service, ServiceType, ServiceTypeRegistry\n\u001b[1;32m      5\u001b[0m OVERTIME_CUTOFF_HOURS \u001b[39m=\u001b[39m \u001b[39m40\u001b[39m\n\u001b[1;32m      8\u001b[0m \u001b[39mclass\u001b[39;00m \u001b[39mPayPeriod\u001b[39;00m:\n",
      "File \u001b[0;32m~/projects/payroll/src/payroll/services.py:4\u001b[0m\n\u001b[1;32m      1\u001b[0m \u001b[39mfrom\u001b[39;00m \u001b[39mdataclasses\u001b[39;00m \u001b[39mimport\u001b[39;00m dataclass\n\u001b[1;32m      2\u001b[0m \u001b[39mfrom\u001b[39;00m \u001b[39mdatetime\u001b[39;00m \u001b[39mimport\u001b[39;00m datetime\n\u001b[0;32m----> 4\u001b[0m \u001b[39mimport\u001b[39;00m \u001b[39myaml\u001b[39;00m\n\u001b[1;32m      6\u001b[0m OVERTIME_MULTIPLIER \u001b[39m=\u001b[39m \u001b[39m1.5\u001b[39m\n\u001b[1;32m      7\u001b[0m OVERTIME_SUFFIX \u001b[39m=\u001b[39m \u001b[39m\"\u001b[39m\u001b[39m_OT\u001b[39m\u001b[39m\"\u001b[39m\n",
      "\u001b[0;31mModuleNotFoundError\u001b[0m: No module named 'yaml'"
     ]
    }
   ],
   "source": [
    "import payroll as pr\n"
   ]
  },
  {
   "cell_type": "code",
   "execution_count": 7,
   "metadata": {},
   "outputs": [],
   "source": [
    "import yaml\n",
    "with open(\"../data/service_types.yaml\", 'r') as f:\n",
    "    types = yaml.safe_load(f)"
   ]
  },
  {
   "cell_type": "code",
   "execution_count": 8,
   "metadata": {},
   "outputs": [
    {
     "data": {
      "text/plain": [
       "{'services': [{'name': 'one_child', 'rate': 22},\n",
       "  {'name': 'two_children', 'rate': 24}]}"
      ]
     },
     "execution_count": 8,
     "metadata": {},
     "output_type": "execute_result"
    }
   ],
   "source": [
    "types"
   ]
  },
  {
   "cell_type": "code",
   "execution_count": 6,
   "metadata": {},
   "outputs": [
    {
     "name": "stdout",
     "output_type": "stream",
     "text": [
      "\u001b[0;31mSignature:\u001b[0m \u001b[0myaml\u001b[0m\u001b[0;34m.\u001b[0m\u001b[0msafe_load\u001b[0m\u001b[0;34m(\u001b[0m\u001b[0mstream\u001b[0m\u001b[0;34m)\u001b[0m\u001b[0;34m\u001b[0m\u001b[0;34m\u001b[0m\u001b[0m\n",
      "\u001b[0;31mDocstring:\u001b[0m\n",
      "Parse the first YAML document in a stream\n",
      "and produce the corresponding Python object.\n",
      "\n",
      "Resolve only basic YAML tags. This is known\n",
      "to be safe for untrusted input.\n",
      "\u001b[0;31mFile:\u001b[0m      /opt/homebrew/Caskroom/miniforge/base/envs/payroll/lib/python3.11/site-packages/yaml/__init__.py\n",
      "\u001b[0;31mType:\u001b[0m      function\n"
     ]
    }
   ],
   "source": [
    "yaml.safe_load?"
   ]
  },
  {
   "cell_type": "code",
   "execution_count": null,
   "metadata": {},
   "outputs": [],
   "source": []
  }
 ],
 "metadata": {
  "kernelspec": {
   "display_name": "Python 3.11.0 ('payroll')",
   "language": "python",
   "name": "python3"
  },
  "language_info": {
   "codemirror_mode": {
    "name": "ipython",
    "version": 3
   },
   "file_extension": ".py",
   "mimetype": "text/x-python",
   "name": "python",
   "nbconvert_exporter": "python",
   "pygments_lexer": "ipython3",
   "version": "3.11.0"
  },
  "orig_nbformat": 4,
  "vscode": {
   "interpreter": {
    "hash": "fc5dc1276d8492db2fd5384e905f551c6f8fc3ab21122aa289ef6458d3cc0d0f"
   }
  }
 },
 "nbformat": 4,
 "nbformat_minor": 2
}
